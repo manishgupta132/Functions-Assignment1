{
  "nbformat": 4,
  "nbformat_minor": 0,
  "metadata": {
    "colab": {
      "provenance": []
    },
    "kernelspec": {
      "name": "python3",
      "display_name": "Python 3"
    },
    "language_info": {
      "name": "python"
    }
  },
  "cells": [
    {
      "cell_type": "markdown",
      "source": [
        "1. What is the difference between function and method in Python?\n",
        "\n",
        "-> In Python, a function is an independent block of code that performs a specific task and can be called from anywhere, while a method is tied to objects or classes and needs an object or class instance to be invoked.\n",
        "\n",
        "Example of function :\n",
        "\n",
        "def greet(name):\n",
        "    return f\"Hello, {name}!\"\n",
        "\n",
        "print(greet(\"Alice\"))\n",
        "\n",
        "Example of method :\n",
        "\n",
        "class Greeter:\n",
        "    def greet(self, name):\n",
        "        return f\"Hello, {name}!\"\n",
        "\n",
        "g = Greeter()\n",
        "\n",
        "print(g.greet(\"Alice\"))\n",
        "\n",
        "2. Explain the concept of function arguments and parameters in Python.\n",
        "\n",
        "-> Parameter : The variable name in the function definition\n",
        "for eg : def greet(name): → name\n",
        "\n",
        "Arguments : The actual value passed when calling the function\n",
        "for eg : greet(\"Alice\") → \"Alice\"\n",
        "\n",
        "3. What are the different ways to define and call a function in Python?\n",
        "\n",
        "-> a. Standard Function Definition (with def)\n",
        "\n",
        "Define:\n",
        "\n",
        "def greet(name):\n",
        "    print(f\"Hello, {name}!\")\n",
        "Call:\n",
        "\n",
        "greet(\"Radha\")\n",
        "\n",
        " b. Function with Default Parameters\n",
        "\n",
        "Define:\n",
        "\n",
        "def greet(name=\"Guest\"):\n",
        "    print(f\"Hello, {name}!\")\n",
        "\n",
        "Call:\n",
        "\n",
        "greet()           \n",
        "greet(\"Krishna\")  \n",
        "\n",
        " c. Function with Variable-length Arguments\n",
        "\n",
        "Using *args (Positional):\n",
        "\n",
        "def add(*numbers):\n",
        "    retun sum(numbers)\n",
        "\n",
        "print(add(1, 2, 3))  # Output: 6\n",
        "\n",
        "Using **kwargs (Keyword):\n",
        "\n",
        "def describe_person(**info):\n",
        "    for key, value in info.items():\n",
        "        print(f\"{key}: {value}\")\n",
        "\n",
        "describe_person(name=\"Sita\", age=30)\n",
        "\n",
        " d. Lambda Function (Anonymous Function)\n",
        "Used for short, throwaway functions.\n",
        "\n",
        " Define & Call:\n",
        "\n",
        "square = lambda x: x * x\n",
        "print(square(5))  # Output: 25\n",
        "\n",
        " e. Function Inside a Function (Nested Function)\n",
        " Define:\n",
        "\n",
        "def outer():\n",
        "    def inner():\n",
        "        print(\"Hello from inner!\")\n",
        "    inner()\n",
        " Call:\n",
        "\n",
        "outer()\n",
        "\n",
        "4. What is the purpose of the `return` statement in a Python function?\n",
        "\n",
        "-> Purpose of return:\n",
        "\n",
        "Output a Result:\n",
        "\n",
        "It gives the function's result back to wherever it was called.\n",
        "\n",
        "Without return, the function returns None by default.\n",
        "\n",
        "End the Function:\n",
        "\n",
        "It stops execution of the function at that point (no code after return runs).\n",
        "\n",
        "Example:\n",
        "\n",
        "def add(a, b):\n",
        "    return a + b\n",
        "\n",
        "result = add(3, 4)\n",
        "print(result)\n",
        "\n",
        "5. What are iterators in Python and how do they differ from iterables?\n",
        "\n",
        "-> An iterable is any Python object capable of returning its members one at a time, allowing it to be looped over with a for loop.\n",
        "\n",
        "Example of iterables:\n",
        "\n",
        "numbers = [1, 2, 3]\n",
        "for num in numbers:\n",
        "    print(num)\n",
        "\n",
        "An iterator is an object that remembers its position while going through elements one at a time using the next() function.\n",
        "\n",
        "Examples of iterators:\n",
        "\n",
        "num_iterator = iter(numbers)\n",
        "\n",
        "print(next(num_iterator))  # 1\n",
        "print(next(num_iterator))  # 2\n",
        "print(next(num_iterator))  # 3\n",
        "\n",
        "6. Explain the concept of generators in Python and how they are defined?\n",
        "\n",
        "-> A generator is a special type of function that yields values one at a time on demand, instead of returning all results at once.\n",
        "\n",
        "It automatically creates an iterator, meaning you can use next() on it, and it remembers its state between calls.\n",
        "\n",
        "Example:\n",
        "def count_up_to(n):\n",
        "    count = 1\n",
        "    while count <= n:\n",
        "        yield count\n",
        "        count += 1\n",
        "\n",
        "counter = count_up_to(3)\n",
        "\n",
        "print(next(counter))  # 1\n",
        "print(next(counter))  # 2\n",
        "print(next(counter))  # 3\n",
        "\n",
        " 7. What are the advantages of using generators over regular functions?\n",
        "\n",
        " -> Generators offer several practical advantages over regular functions—especially when working with large data, infinite sequences, or resource-constrained environments.\n",
        "\n",
        "a. Memory Efficiency\n",
        "Generators don’t store the entire result in memory. Instead, they yield one item at a time.\n",
        "\n",
        "Example:\n",
        "\n",
        "def count_up_to(n):\n",
        "    for i in range(n):\n",
        "        yield i  # no full list in memory\n",
        "\n",
        "b. Lazy Evaluation\n",
        "Generators compute values only when requested, which means they can handle infinite or very large sequences.\n",
        "\n",
        "def infinite_counter():\n",
        "    i = 0\n",
        "    while True:\n",
        "        yield i\n",
        "        i += 1\n",
        "\n",
        " 8. What is a lambda function in Python and when is it typically used?\n",
        "\n",
        "-> Lambda function is short-hand/ anonymous function and it’s typically used when you need a simple function for a short period of time, especially as an argument to another function.\n",
        "\n",
        "Example:\n",
        "nums = [1, 2, 3, 4]\n",
        "squared = list(map(lambda x: x**2, nums))\n",
        "print(squared)  # [1, 4, 9, 16]\n",
        "\n",
        "9. Explain the purpose and usage of the `map()` function in Python.\n",
        "\n",
        "-> The map() function in Python is used to apply a function to every item in an iterable (like a list, tuple, etc.) and returns a map object, which is an iterator containing the results.\n",
        "\n",
        "Example:\n",
        "\n",
        "nums = [1, 2, 3, 4]\n",
        "squared = map(lambda x: x**2, nums)\n",
        "\n",
        "print(list(squared))  # Output: [1, 4, 9, 16]\n",
        "\n",
        " 10. What is the difference between `map()`, `reduce()`, and `filter()` functions in Python?\n",
        "\n",
        "-> a. map() : Transform each item\n",
        "Purpose: Applies a function to each element of an iterable.\n",
        "Returns: A new iterator with transformed items.\n",
        "\n",
        "nums = [1, 2, 3]\n",
        "\n",
        "Example:\n",
        "\n",
        "squared = map(lambda x: x**2, nums)\n",
        "print(list(squared))  # [1, 4, 9]\n",
        "\n",
        " b. filter() : Select items based on a condition\n",
        "\n",
        "Purpose: Applies a function that returns True/False to filter items.\n",
        "Returns: A new iterator with only elements that passed the condition.\n",
        "\n",
        "nums = [1, 2, 3, 4, 5]\n",
        "evens = filter(lambda x: x % 2 == 0, nums)\n",
        "print(list(evens))  # [2, 4]\n",
        "\n",
        " c. reduce() – Combine all items into a single value\n",
        "Purpose: Applies a function cumulatively to the items in an iterable.\n",
        "Returns: A single final result.\n",
        "\n",
        "Example:\n",
        "\n",
        "from functools import reduce\n",
        "\n",
        "nums = [1, 2, 3, 4]\n",
        "product = reduce(lambda x, y: x * y, nums)\n",
        "print(product)\n",
        "\n",
        "11. Using pen & Paper write the internal mechanism for sum operation using  reduce function on this given list:[47,11,42,13];\n",
        "\n",
        "-> /content/python functions.jpg\n",
        "\n"
      ],
      "metadata": {
        "id": "5S4nGKx2RmOk"
      }
    },
    {
      "cell_type": "markdown",
      "source": [
        "# **Practical Questions**"
      ],
      "metadata": {
        "id": "2GGmhL3ZVgey"
      }
    },
    {
      "cell_type": "code",
      "source": [
        "# 1. Write a Python function that takes a list of numbers as input and returns the sum of all even numbers in the list\n",
        "\n",
        "def add(my_list):\n",
        "\n",
        "  sum = 0\n",
        "  for i in my_list:\n",
        "    if i%2 == 0:\n",
        "     sum = sum + i\n",
        "  return sum\n",
        "my_list = [1,2,3,4,5,6,8]\n",
        "result = print(add(my_list))\n"
      ],
      "metadata": {
        "colab": {
          "base_uri": "https://localhost:8080/"
        },
        "id": "MSBhQzUaVkgL",
        "outputId": "dec67d25-1bf5-41cd-a81f-98198e684327"
      },
      "execution_count": null,
      "outputs": [
        {
          "output_type": "stream",
          "name": "stdout",
          "text": [
            "20\n"
          ]
        }
      ]
    },
    {
      "cell_type": "code",
      "source": [
        "# 2. Create a Python function that accepts a string and returns the reverse of that string.\n",
        "my_string = \"pwskills\"\n",
        "def reverse(my_string):\n",
        "  return my_string[::-1]\n",
        "result = print(reverse(my_string))"
      ],
      "metadata": {
        "colab": {
          "base_uri": "https://localhost:8080/"
        },
        "id": "UVz1z6zkW9v3",
        "outputId": "72bf4f6f-0e18-45ad-b340-612b97e4d3be"
      },
      "execution_count": null,
      "outputs": [
        {
          "output_type": "stream",
          "name": "stdout",
          "text": [
            "sllikswp\n"
          ]
        }
      ]
    },
    {
      "cell_type": "code",
      "source": [
        "# 3. Implement a Python function that takes a list of integers and returns a new list containing the squares of each number\n",
        "l = [1,2,3,4,5]\n",
        "def square(l):\n",
        "  return l ** 2\n",
        "list(map(square,l))"
      ],
      "metadata": {
        "colab": {
          "base_uri": "https://localhost:8080/"
        },
        "id": "eow5kUbCjaIB",
        "outputId": "531288e4-f9d3-4f36-bdc3-7c368d5228ea"
      },
      "execution_count": null,
      "outputs": [
        {
          "output_type": "execute_result",
          "data": {
            "text/plain": [
              "[1, 4, 9, 16, 25]"
            ]
          },
          "metadata": {},
          "execution_count": 23
        }
      ]
    },
    {
      "cell_type": "code",
      "source": [
        "#  4. Write a Python function that checks if a given number is prime or not from 1 to 200\n",
        "def is_prime(n):\n",
        "    if n <= 1:\n",
        "        return False  # 0 and 1 are not prime\n",
        "    for i in range(2, int(n ** 0.5) + 1):  # Only check up to sqrt(n)\n",
        "        if n % i == 0:\n",
        "            return False\n",
        "    return True\n",
        "print(\"Prime numbers:\")\n",
        "for num in range(1, 201):\n",
        "    if is_prime(num):\n",
        "        print(num, end=\" \")\n",
        "\n",
        "print(\"\\n\\nNot prime numbers:\")\n",
        "for num in range(1, 201):\n",
        "    if not is_prime(num):\n",
        "        print(num, end=\" \")"
      ],
      "metadata": {
        "colab": {
          "base_uri": "https://localhost:8080/"
        },
        "id": "crnUPSwQj_qY",
        "outputId": "3fe58e19-d277-4d15-938c-2e3542d77c6a"
      },
      "execution_count": null,
      "outputs": [
        {
          "output_type": "stream",
          "name": "stdout",
          "text": [
            "Prime numbers:\n",
            "2 3 5 7 11 13 17 19 23 29 31 37 41 43 47 53 59 61 67 71 73 79 83 89 97 101 103 107 109 113 127 131 137 139 149 151 157 163 167 173 179 181 191 193 197 199 \n",
            "\n",
            "Not prime numbers:\n",
            "1 4 6 8 9 10 12 14 15 16 18 20 21 22 24 25 26 27 28 30 32 33 34 35 36 38 39 40 42 44 45 46 48 49 50 51 52 54 55 56 57 58 60 62 63 64 65 66 68 69 70 72 74 75 76 77 78 80 81 82 84 85 86 87 88 90 91 92 93 94 95 96 98 99 100 102 104 105 106 108 110 111 112 114 115 116 117 118 119 120 121 122 123 124 125 126 128 129 130 132 133 134 135 136 138 140 141 142 143 144 145 146 147 148 150 152 153 154 155 156 158 159 160 161 162 164 165 166 168 169 170 171 172 174 175 176 177 178 180 182 183 184 185 186 187 188 189 190 192 194 195 196 198 200 "
          ]
        }
      ]
    },
    {
      "cell_type": "code",
      "source": [
        "#Create an iterator class in Python that generates the Fibonacci sequence up to a specified number of terms.\n",
        "\n",
        "s = \"computer\"\n",
        "result = iter(s)\n",
        "next(result)\n",
        "next(result)\n",
        "next(result)"
      ],
      "metadata": {
        "colab": {
          "base_uri": "https://localhost:8080/",
          "height": 35
        },
        "id": "6DsXbAzk_BxI",
        "outputId": "cfa09775-b2c2-44ed-bc72-3585371b42bf"
      },
      "execution_count": null,
      "outputs": [
        {
          "output_type": "execute_result",
          "data": {
            "text/plain": [
              "'m'"
            ],
            "application/vnd.google.colaboratory.intrinsic+json": {
              "type": "string"
            }
          },
          "metadata": {},
          "execution_count": 5
        }
      ]
    },
    {
      "cell_type": "code",
      "source": [
        "class Fibonacci:\n",
        "    def __init__(self, terms): #__init__ is a constructor it is called when object is created , with the help of self we access variables in overall class,terms = no. of terms\n",
        "        self.terms = terms #stored in self so it can be used in other methods also\n",
        "        self.current = 0 #a = 0\n",
        "        self.next_val = 1 #b = 1\n",
        "        self.count = 0 #counter\n",
        "\n",
        "    def __iter__(self):   #return the created object,executes once. Only self as a parameter in __iter__() because the object itself has all the information to produce the Fibonacci numbers (no extra data needed).\n",
        "        return self\n",
        "\n",
        "    def __next__(self):\n",
        "        if self.count >= self.terms:\n",
        "            raise StopIteration\n",
        "        value = self.current\n",
        "        self.current, self.next_val = self.next_val, self.current + self.next_val\n",
        "        self.count += 1\n",
        "        return value\n",
        "\n",
        "# Example usage:\n",
        "fib = Fibonacci(5)  # Creates an object `fib`\n",
        "for num in fib:     # Calls `fib.__iter__()` and then `fib.__next__()`\n",
        "    print(num)\n"
      ],
      "metadata": {
        "colab": {
          "base_uri": "https://localhost:8080/"
        },
        "id": "NhJmqhbhGC4v",
        "outputId": "ec2e83d1-156d-4c17-923e-18ce353b610e"
      },
      "execution_count": null,
      "outputs": [
        {
          "output_type": "stream",
          "name": "stdout",
          "text": [
            "0\n",
            "1\n",
            "1\n",
            "2\n",
            "3\n"
          ]
        }
      ]
    },
    {
      "cell_type": "code",
      "source": [
        " #6. Write a generator function in Python that yields the powers of 2 up to a given exponent.\n",
        "class Power:\n",
        "    def __init__(self, exponent):\n",
        "        self.exponent = exponent  # Initialize the exponent attribute\n",
        "\n",
        "    def generate_powers(self):\n",
        "        # This method will generate powers of 2 up to 2^exponent\n",
        "        for i in range(self.exponent + 1):\n",
        "            yield 2 ** i  # Yield each power of 2\n",
        "\n",
        "# Creating an object of the class\n",
        "result = Power(3)\n",
        "\n",
        "# Using the generator to get powers of 2 up to 2^3\n",
        "for value in result.generate_powers():\n",
        "    print(value)"
      ],
      "metadata": {
        "colab": {
          "base_uri": "https://localhost:8080/"
        },
        "id": "NaVsUma1XS5T",
        "outputId": "14e0c8b4-13d1-4626-9ad5-2798d7c3286e"
      },
      "execution_count": null,
      "outputs": [
        {
          "output_type": "stream",
          "name": "stdout",
          "text": [
            "1\n",
            "2\n",
            "4\n",
            "8\n"
          ]
        }
      ]
    },
    {
      "cell_type": "code",
      "source": [
        "def exponent(n):\n",
        "   for i in range(n+1):\n",
        "     res = 2**i\n",
        "     yield res\n",
        "result = exponent(5)\n",
        "for value in result:\n",
        "    print(value)\n",
        "\n",
        "\n",
        "\n"
      ],
      "metadata": {
        "colab": {
          "base_uri": "https://localhost:8080/"
        },
        "id": "-pn2k8_UZQd-",
        "outputId": "09877434-7357-44ef-a6f8-55435ccc9016"
      },
      "execution_count": null,
      "outputs": [
        {
          "output_type": "stream",
          "name": "stdout",
          "text": [
            "1\n",
            "2\n",
            "4\n",
            "8\n",
            "16\n",
            "32\n"
          ]
        }
      ]
    },
    {
      "cell_type": "code",
      "source": [
        "# 9. Write a Python program that uses `map()` to convert a list of temperatures from Celsius to Fahrenheit\n",
        "l = [30,12,24]\n",
        "result = list(map(lambda x : (x*9/5)+32,l))\n",
        "print(result)\n"
      ],
      "metadata": {
        "colab": {
          "base_uri": "https://localhost:8080/"
        },
        "id": "rb5lFW8DbKZe",
        "outputId": "b46adaf0-f330-4ad7-fa66-7ef37818daa9"
      },
      "execution_count": null,
      "outputs": [
        {
          "output_type": "stream",
          "name": "stdout",
          "text": [
            "[86.0, 53.6, 75.2]\n"
          ]
        }
      ]
    },
    {
      "cell_type": "code",
      "source": [
        "# 10. Create a Python program that uses `filter()` to remove all the vowels from a given string\n",
        "my_string = \"education\"\n",
        "vowels = \"aeiouAEIOU\"\n",
        "result = ''.join(filter(lambda x: x not in vowels, my_string))\n",
        "print(\"Original string:\", my_string)\n",
        "print(\"String without vowels:\", result)"
      ],
      "metadata": {
        "colab": {
          "base_uri": "https://localhost:8080/"
        },
        "id": "QDiTFn9TebZl",
        "outputId": "2c7a16f0-a83c-476e-83b3-0d36f023fb88"
      },
      "execution_count": null,
      "outputs": [
        {
          "output_type": "stream",
          "name": "stdout",
          "text": [
            "Original string: education\n",
            "String without vowels: dctn\n"
          ]
        }
      ]
    },
    {
      "cell_type": "code",
      "source": [
        "# 11.\n",
        "orders = [\n",
        "    [34587, \"Learning Python, Mark Lutz\", 4, 40.95],\n",
        "    [98762, \"Programming Python, Mark Lutz\", 5, 56.80],\n",
        "    [77226, \"Head First Python, Paul Barry\", 3, 32.95],\n",
        "    [88112, \"Einführung in Python3, Bernd Klein\", 3, 24.99]\n",
        "]\n",
        "\n",
        "result = list(map(\n",
        "    lambda x: (x[0], x[2]*x[3] if x[2]*x[3] >= 100 else x[2]*x[3] + 10),\n",
        "    orders\n",
        "))\n",
        "\n",
        "print(result)"
      ],
      "metadata": {
        "id": "qnC6uJELgBAU",
        "colab": {
          "base_uri": "https://localhost:8080/"
        },
        "outputId": "ad4e7e14-37cd-4c70-cf9c-338c6c923d58"
      },
      "execution_count": null,
      "outputs": [
        {
          "output_type": "stream",
          "name": "stdout",
          "text": [
            "[(34587, 163.8), (98762, 284.0), (77226, 108.85000000000001), (88112, 84.97)]\n"
          ]
        }
      ]
    },
    {
      "cell_type": "code",
      "source": [],
      "metadata": {
        "id": "d0PiwcUbyhkY"
      },
      "execution_count": null,
      "outputs": []
    }
  ]
}